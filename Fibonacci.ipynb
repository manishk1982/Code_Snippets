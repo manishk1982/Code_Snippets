{
 "cells": [
  {
   "cell_type": "code",
   "execution_count": 12,
   "id": "ab16bc0a-46a0-4cd0-b35c-8e23be9a0590",
   "metadata": {},
   "outputs": [
    {
     "name": "stdout",
     "output_type": "stream",
     "text": [
      "0\n",
      "1\n",
      "1\n",
      "2\n",
      "3\n",
      "5\n",
      "8\n",
      "13\n",
      "21\n",
      "34\n",
      "55\n",
      "89\n",
      "144\n",
      "233\n",
      "377\n",
      "610\n",
      "987\n",
      "1597\n",
      "2584\n"
     ]
    }
   ],
   "source": [
    "# Fibonacci serires - Simple way\n",
    "\n",
    "def fibo(num):\n",
    "    a=0\n",
    "    b=1\n",
    "    count = 0\n",
    "    while count<=num:\n",
    "        print(a)\n",
    "        a,b=b, a+b\n",
    "        count+=1\n",
    "\n",
    "\n",
    "number = 18\n",
    "fibo(number)\n"
   ]
  },
  {
   "cell_type": "code",
   "execution_count": 23,
   "id": "8030200d-aca6-4829-9529-633427680860",
   "metadata": {},
   "outputs": [
    {
     "name": "stdout",
     "output_type": "stream",
     "text": [
      "<generator object fibo at 0x000002B21E917B50>\n",
      "0\n",
      "1\n",
      "1\n",
      "2\n",
      "3\n",
      "5\n",
      "8\n",
      "13\n",
      "21\n",
      "34\n",
      "55\n",
      "89\n",
      "144\n",
      "233\n",
      "377\n",
      "610\n",
      "987\n",
      "1597\n"
     ]
    }
   ],
   "source": [
    "# Fibonacci serires - Generator (yield) way\n",
    "\n",
    "def fibo(num):\n",
    "    a=0\n",
    "    b=1\n",
    "    for i in range(num):\n",
    "        yield a\n",
    "        a,b=b, a+b\n",
    "\n",
    "\n",
    "number = 18\n",
    "result = fibo(number)\n",
    "print(result)\n",
    "for i in range(number):\n",
    "    print(next(result))"
   ]
  },
  {
   "cell_type": "code",
   "execution_count": 3,
   "id": "3f503906-481e-4849-a637-c7556cee8d86",
   "metadata": {},
   "outputs": [
    {
     "name": "stdout",
     "output_type": "stream",
     "text": [
      "21\n",
      "0\n",
      "1\n",
      "1\n",
      "2\n",
      "3\n",
      "5\n",
      "8\n",
      "13\n",
      "21\n",
      "34\n",
      "55\n",
      "89\n",
      "144\n",
      "233\n",
      "377\n",
      "610\n",
      "987\n",
      "1597\n"
     ]
    }
   ],
   "source": [
    "# Fibonacci serires - Recursion\n",
    "\n",
    "def fibo(num):\n",
    "    if num <= 1:\n",
    "        return num\n",
    "    else:\n",
    "        return fibo(num-1) + fibo(num-2)\n",
    "\n",
    "print(fibo(8))\n",
    "number = 18\n",
    "if number >= 1:\n",
    "    for i in range(number):\n",
    "        print(fibo(i))\n",
    "\n"
   ]
  },
  {
   "cell_type": "code",
   "execution_count": null,
   "id": "6ad6fd34-bc49-440c-9c02-1f33f8955849",
   "metadata": {},
   "outputs": [],
   "source": []
  }
 ],
 "metadata": {
  "kernelspec": {
   "display_name": "Python 3 (ipykernel)",
   "language": "python",
   "name": "python3"
  },
  "language_info": {
   "codemirror_mode": {
    "name": "ipython",
    "version": 3
   },
   "file_extension": ".py",
   "mimetype": "text/x-python",
   "name": "python",
   "nbconvert_exporter": "python",
   "pygments_lexer": "ipython3",
   "version": "3.9.12"
  }
 },
 "nbformat": 4,
 "nbformat_minor": 5
}
