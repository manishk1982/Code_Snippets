{
 "cells": [
  {
   "cell_type": "code",
   "execution_count": 3,
   "id": "ab16bc0a-46a0-4cd0-b35c-8e23be9a0590",
   "metadata": {},
   "outputs": [
    {
     "name": "stdout",
     "output_type": "stream",
     "text": [
      "Counter({12: 2, 3: 2, 4: 1, 5: 1, 11: 1, 6: 1, 7: 1})\n",
      "Counter({'a': 3, 'n': 2, 'h': 2, 'l': 2, 'M': 1, 'i': 1, 's': 1, ' ': 1, 'K': 1, 'd': 1, 'e': 1, 'w': 1})\n"
     ]
    }
   ],
   "source": [
    "# import counter class from collections module\n",
    "from collections import Counter\n",
    " \n",
    "#Creating a Counter class object using list as an iterable data container\n",
    "a = [12, 3, 4, 3, 5, 11, 12, 6, 7]\n",
    " \n",
    "x = Counter(a)\n",
    "print(x)\n",
    "\n",
    "a = \"Manish Khandelwal\"\n",
    "x = Counter(a)\n",
    "print(x)"
   ]
  },
  {
   "cell_type": "code",
   "execution_count": 3,
   "id": "8030200d-aca6-4829-9529-633427680860",
   "metadata": {},
   "outputs": [
    {
     "name": "stdout",
     "output_type": "stream",
     "text": [
      "6\n"
     ]
    }
   ],
   "source": [
    "# Sum of digits in number\n",
    "num = 123\n",
    "sum = 0\n",
    "for i in str(num):\n",
    "    sum += int(i)\n",
    "\n",
    "print(sum)"
   ]
  },
  {
   "cell_type": "code",
   "execution_count": 7,
   "id": "78af23d9-21a6-4bc9-8f13-d98207db92de",
   "metadata": {},
   "outputs": [
    {
     "name": "stdout",
     "output_type": "stream",
     "text": [
      "Not an Armstrong number!!!\n"
     ]
    }
   ],
   "source": [
    "# Armstrong Number or not\n",
    "num = 1531\n",
    "sum = 0\n",
    "for i in str(num):\n",
    "    sum += int(i) ** 3\n",
    "if sum == num:\n",
    "    print(\"Armstrong number!!!\")\n",
    "else:\n",
    "    print(\"Not an Armstrong number!!!\")\n"
   ]
  },
  {
   "cell_type": "code",
   "execution_count": 11,
   "id": "44bd4871-ab48-4bce-afb9-044a51da88de",
   "metadata": {},
   "outputs": [
    {
     "name": "stdout",
     "output_type": "stream",
     "text": [
      "The frozen set is: frozenset({'i', 'o', 'u', 'e', 'a'})\n",
      "The empty frozen set is: frozenset()\n",
      "Set : {'i', 'o', 'u', 'e', 'a'}\n"
     ]
    }
   ],
   "source": [
    "# tuple of vowels\n",
    "vowels = ('a', 'e', 'i', 'o', 'u', 'a', 'e', 'i', 'o', 'u', 'a')\n",
    "\n",
    "fSet = frozenset(vowels)\n",
    "print('The frozen set is:', fSet)\n",
    "print('The empty frozen set is:', frozenset())\n",
    "print(\"Set :\", set(vowels))\n",
    "\n",
    "# frozensets are immutable\n",
    "# fSet.add('v')"
   ]
  },
  {
   "cell_type": "code",
   "execution_count": 25,
   "id": "e61829ca-af20-40fa-ab8b-d7a88123061b",
   "metadata": {},
   "outputs": [
    {
     "name": "stdout",
     "output_type": "stream",
     "text": [
      "['e', 'q', 'r', 't', 'w', 'y']\n",
      "<built-in method get of dict object at 0x000002E8EA6B62C0>\n",
      "[1, 4, 5, 3]\n",
      "[1, 3, 4, 5]\n"
     ]
    }
   ],
   "source": [
    "# Dictionary \n",
    "x = {'q': 1, 'w': 2, 'e': 3, 'r': 4, 't': 5, 'y': 6} \n",
    "print(sorted(x)) \n",
    "print(x.get)\n",
    "\n",
    "y = {1:11, 5:33, 3:44, 4:22}\n",
    "print(sorted(y, key=y.get)) \n",
    "print(sorted(y))"
   ]
  },
  {
   "cell_type": "code",
   "execution_count": 26,
   "id": "7aa43e89-4f78-4c5d-9743-dc058e1aaaca",
   "metadata": {},
   "outputs": [
    {
     "name": "stdout",
     "output_type": "stream",
     "text": [
      "Normal sort : ['aaa', 'b', 'cccc', 'dd']\n",
      "Sort with len : ['b', 'dd', 'aaa', 'cccc']\n"
     ]
    }
   ],
   "source": [
    "L = [\"cccc\", \"b\", \"dd\", \"aaa\"] \n",
    "print(\"Normal sort :\", sorted(L)) \n",
    "print(\"Sort with len :\", sorted(L, key=len)) \n"
   ]
  },
  {
   "cell_type": "code",
   "execution_count": 29,
   "id": "5214d35d-7b4b-4b8c-aa1c-4b4933798c4a",
   "metadata": {},
   "outputs": [
    {
     "name": "stdout",
     "output_type": "stream",
     "text": [
      "[1, 1, 2, 3, 4, 5, 5, 6, 9]\n",
      "[' ', '!', ',', 'd', 'e', 'h', 'l', 'l', 'l', 'o', 'o', 'r', 'w']\n",
      "[(4, 'four'), (1, 'one'), (3, 'three'), (2, 'two')]\n",
      "[(1, 'one'), (2, 'two'), (3, 'three'), (4, 'four')]\n"
     ]
    }
   ],
   "source": [
    "my_list = [3, 1, 4, 1, 5, 9, 2, 6, 5] \n",
    "sorted_list = sorted(my_list) \n",
    "print(sorted_list) \n",
    "\n",
    "my_string = \"hello, world!\"\n",
    "sorted_string = sorted(my_string) \n",
    "print(sorted_string) \n",
    "\n",
    "my_tuples = [(1, \"one\"), (3, \"three\"), (2, \"two\"), (4, \"four\")] \n",
    "sorted_tuples = sorted(my_tuples, key=lambda x: x[1]) \n",
    "print(sorted_tuples)\n",
    "print(sorted(my_tuples))"
   ]
  },
  {
   "cell_type": "code",
   "execution_count": 33,
   "id": "1a224054-a6b3-4ebf-98ef-14ee3a84c6d7",
   "metadata": {},
   "outputs": [
    {
     "name": "stdout",
     "output_type": "stream",
     "text": [
      "[1, 1, 1, 2, 3, 4, 4, 4, 5, 5]\n",
      "[1, 2, 3, 4, 5]\n",
      "{1, 2, 3, 4, 5}\n"
     ]
    }
   ],
   "source": [
    "# Remove duplicates\n",
    "l = [1,1,1,2,3,4,4,4,5,5]\n",
    "l1 =sorted(l)\n",
    "print(l1)\n",
    "l2 =[]\n",
    "for i in l1:\n",
    "    if i in l2:\n",
    "        continue\n",
    "    l2.append(i)\n",
    "\n",
    "print(l2)\n",
    "\n",
    "print(set(l1))"
   ]
  },
  {
   "cell_type": "code",
   "execution_count": 36,
   "id": "6e086b8d-ef3c-483b-b206-17fd628373ad",
   "metadata": {},
   "outputs": [
    {
     "data": {
      "text/plain": [
       "{1, 5}"
      ]
     },
     "execution_count": 36,
     "metadata": {},
     "output_type": "execute_result"
    }
   ],
   "source": [
    "s1={1,2,3,4,5}\n",
    "s2={3,2,4,6,8,9}\n",
    "s1-s2"
   ]
  },
  {
   "cell_type": "code",
   "execution_count": 38,
   "id": "101551bc-42ed-4157-8cfc-fd49db60ea26",
   "metadata": {},
   "outputs": [
    {
     "data": {
      "text/plain": [
       "{1, 2, 3, 4, 5, 6, 8, 9}"
      ]
     },
     "execution_count": 38,
     "metadata": {},
     "output_type": "execute_result"
    }
   ],
   "source": [
    "s1.union(s2)"
   ]
  },
  {
   "cell_type": "code",
   "execution_count": 40,
   "id": "a46dad2b-e6ce-43c0-9a09-64deb16f07e8",
   "metadata": {},
   "outputs": [
    {
     "data": {
      "text/plain": [
       "{1, 5}"
      ]
     },
     "execution_count": 40,
     "metadata": {},
     "output_type": "execute_result"
    }
   ],
   "source": [
    "s1.difference(s2)"
   ]
  },
  {
   "cell_type": "code",
   "execution_count": 43,
   "id": "32396ba3-28df-40e6-a595-6725457bb270",
   "metadata": {},
   "outputs": [
    {
     "data": {
      "text/plain": [
       "1"
      ]
     },
     "execution_count": 43,
     "metadata": {},
     "output_type": "execute_result"
    }
   ],
   "source": [
    "a = [\"foo\", \"bar\", \"baz\"]\n",
    "a.index('bar')"
   ]
  },
  {
   "cell_type": "raw",
   "id": "326d43f5-7120-4d96-9e17-237df99ff09a",
   "metadata": {},
   "source": [
    "2**2"
   ]
  },
  {
   "cell_type": "code",
   "execution_count": 44,
   "id": "9acd595a-1e30-482d-9c4c-e1935a13db95",
   "metadata": {},
   "outputs": [
    {
     "data": {
      "text/plain": [
       "24"
      ]
     },
     "execution_count": 44,
     "metadata": {},
     "output_type": "execute_result"
    }
   ],
   "source": [
    "26^2"
   ]
  },
  {
   "cell_type": "code",
   "execution_count": 45,
   "id": "68821da1-ebc0-41ef-b8b3-f7f067ee5fb9",
   "metadata": {},
   "outputs": [
    {
     "data": {
      "text/plain": [
       "[3, 5]"
      ]
     },
     "execution_count": 45,
     "metadata": {},
     "output_type": "execute_result"
    }
   ],
   "source": [
    "list1 = [1,2,3,4,5,6]\n",
    "list2 = [3, 5, 7, 9]\n",
    "list(set(list1).intersection(list2))"
   ]
  },
  {
   "cell_type": "code",
   "execution_count": 1,
   "id": "c7dab174-cf51-4963-b59c-1cbe542fd433",
   "metadata": {},
   "outputs": [
    {
     "name": "stdout",
     "output_type": "stream",
     "text": [
      "{1: 'a', 2: 'b', 3: 'c', 4: 'd'}\n"
     ]
    }
   ],
   "source": [
    "a = {1:'a', 2:'b', 3:'c', 4:'d'}\n",
    "print(a)"
   ]
  },
  {
   "cell_type": "code",
   "execution_count": 3,
   "id": "db4bf34f-9aa1-42b1-a14c-d7afc527ddfb",
   "metadata": {},
   "outputs": [
    {
     "data": {
      "text/plain": [
       "[1, 2, 3, 4]"
      ]
     },
     "execution_count": 3,
     "metadata": {},
     "output_type": "execute_result"
    }
   ],
   "source": [
    "a.keys()\n",
    "list(a.keys())"
   ]
  },
  {
   "cell_type": "code",
   "execution_count": 4,
   "id": "e3cbc17c-9e30-4719-9e2f-d12647ccfcb8",
   "metadata": {},
   "outputs": [
    {
     "data": {
      "text/plain": [
       "[1, 2, 3, 4]"
      ]
     },
     "execution_count": 4,
     "metadata": {},
     "output_type": "execute_result"
    }
   ],
   "source": [
    "a\n",
    "list(a)"
   ]
  },
  {
   "cell_type": "code",
   "execution_count": 6,
   "id": "51dadefb-ce27-4ac7-84fb-d95846aa1168",
   "metadata": {},
   "outputs": [
    {
     "data": {
      "text/plain": [
       "[2, 4, 6, 8]"
      ]
     },
     "execution_count": 6,
     "metadata": {},
     "output_type": "execute_result"
    }
   ],
   "source": [
    "numbers = [1, 2, 3, 4, 5, 6, 7, 8, 9]\n",
    "\n",
    "# Filter even numbers\n",
    "even_numbers = list(filter(lambda x: x % 2 == 0, numbers))\n",
    "# Output: [2, 4, 6, 8]\n",
    "even_numbers"
   ]
  },
  {
   "cell_type": "code",
   "execution_count": 7,
   "id": "2d1d1248-c348-4f9c-8201-4b3398bc46e5",
   "metadata": {},
   "outputs": [
    {
     "data": {
      "text/plain": [
       "[False, True, False, True, False, True, False, True, False]"
      ]
     },
     "execution_count": 7,
     "metadata": {},
     "output_type": "execute_result"
    }
   ],
   "source": [
    "numbers = [1, 2, 3, 4, 5, 6, 7, 8, 9]\n",
    "\n",
    "# Filter even numbers\n",
    "even_numbers = list(map(lambda x: x % 2 == 0, numbers))\n",
    "# Output: [2, 4, 6, 8]\n",
    "even_numbers"
   ]
  }
 ],
 "metadata": {
  "kernelspec": {
   "display_name": "Python 3 (ipykernel)",
   "language": "python",
   "name": "python3"
  },
  "language_info": {
   "codemirror_mode": {
    "name": "ipython",
    "version": 3
   },
   "file_extension": ".py",
   "mimetype": "text/x-python",
   "name": "python",
   "nbconvert_exporter": "python",
   "pygments_lexer": "ipython3",
   "version": "3.11.1"
  }
 },
 "nbformat": 4,
 "nbformat_minor": 5
}
