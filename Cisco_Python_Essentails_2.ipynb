{
 "cells": [
  {
   "cell_type": "code",
   "execution_count": 3,
   "id": "f5b6a29d-c286-4a8e-a09a-5105484d1eff",
   "metadata": {},
   "outputs": [
    {
     "name": "stdout",
     "output_type": "stream",
     "text": [
      "['To', 'be', 'or', 'not', 'to', 'be,', 'that', 'is', 'the']\n",
      "['To', 'be', 'or', 'not', 'to', 'be,that', 'is', 'the']\n",
      "['', '', '']\n",
      "['', 'abc']\n",
      "[]\n"
     ]
    },
    {
     "data": {
      "text/plain": [
       "\"\\n['To', 'be', 'or', 'not', 'to', 'be,', 'that', 'is', 'the', 'question']\\n['To', 'be', 'or', 'not', 'to', 'be,that', 'is', 'the', 'question']\\n[]\\n['abc']\\n[]\\n\""
      ]
     },
     "execution_count": 3,
     "metadata": {},
     "output_type": "execute_result"
    }
   ],
   "source": [
    "# write your own function, which behaves almost exactly like the original split() method\n",
    "\n",
    "\n",
    "\n",
    "def mysplit(strng):\n",
    "    #\n",
    "    # put your code here\n",
    "    output = []\n",
    "    cur_word = \"\"\n",
    "    for ch in strng:\n",
    "        if ch == \" \":\n",
    "            output.append(cur_word)\n",
    "            cur_word = \"\"\n",
    "        else:\n",
    "            cur_word = cur_word + ch\n",
    "    return output\n",
    "\n",
    "\n",
    "print(mysplit(\"To be or not to be, that is the question\"))\n",
    "print(mysplit(\"To be or not to be,that is the question\"))\n",
    "print(mysplit(\"   \"))\n",
    "print(mysplit(\" abc \"))\n",
    "print(mysplit(\"\"))\n",
    "\n",
    "\"\"\"\n",
    "['To', 'be', 'or', 'not', 'to', 'be,', 'that', 'is', 'the', 'question']\n",
    "['To', 'be', 'or', 'not', 'to', 'be,that', 'is', 'the', 'question']\n",
    "[]\n",
    "['abc']\n",
    "[]\n",
    "\"\"\""
   ]
  },
  {
   "cell_type": "code",
   "execution_count": 5,
   "id": "6fec59fe-dea2-4460-a647-d699c9159c91",
   "metadata": {},
   "outputs": [
    {
     "name": "stdout",
     "output_type": "stream",
     "text": [
      "True\n",
      "False\n",
      "True\n",
      "True\n"
     ]
    }
   ],
   "source": [
    "print('smith' > 'Smith')\n",
    "print('Smiths' < 'Smith')\n",
    "print('Smith' > '1000')\n",
    "print('11' < '8')"
   ]
  },
  {
   "cell_type": "code",
   "execution_count": 7,
   "id": "31ffbb53-d84f-4f5f-84bd-d7f158221fa0",
   "metadata": {},
   "outputs": [
    {
     "name": "stdout",
     "output_type": "stream",
     "text": [
      "['Where', 'are', 'of', 'snows', 'the', 'yesteryear?']\n",
      "are\n"
     ]
    }
   ],
   "source": [
    "s1 = 'Where are the snows of yesteryear?'\n",
    "s2 = s1.split()\n",
    "s3 = sorted(s2)\n",
    "print(s3)\n",
    "print(s3[1])\n",
    " "
   ]
  },
  {
   "cell_type": "code",
   "execution_count": 8,
   "id": "6207cad5-fe46-4b23-b65e-3ed1111d1abe",
   "metadata": {},
   "outputs": [
    {
     "ename": "ValueError",
     "evalue": "invalid literal for int() with base 10: '12.8'",
     "output_type": "error",
     "traceback": [
      "\u001b[1;31m---------------------------------------------------------------------------\u001b[0m",
      "\u001b[1;31mValueError\u001b[0m                                Traceback (most recent call last)",
      "Cell \u001b[1;32mIn[8], line 2\u001b[0m\n\u001b[0;32m      1\u001b[0m s1 \u001b[38;5;241m=\u001b[39m \u001b[38;5;124m'\u001b[39m\u001b[38;5;124m12.8\u001b[39m\u001b[38;5;124m'\u001b[39m\n\u001b[1;32m----> 2\u001b[0m i \u001b[38;5;241m=\u001b[39m \u001b[38;5;28;43mint\u001b[39;49m\u001b[43m(\u001b[49m\u001b[43ms1\u001b[49m\u001b[43m)\u001b[49m\n\u001b[0;32m      3\u001b[0m s2 \u001b[38;5;241m=\u001b[39m \u001b[38;5;28mstr\u001b[39m(i)\n\u001b[0;32m      4\u001b[0m f \u001b[38;5;241m=\u001b[39m \u001b[38;5;28mfloat\u001b[39m(s2)\n",
      "\u001b[1;31mValueError\u001b[0m: invalid literal for int() with base 10: '12.8'"
     ]
    }
   ],
   "source": [
    "s1 = '12.8'\n",
    "i = int(s1)\n",
    "s2 = str(i)\n",
    "f = float(s2)\n",
    "print(s1 == s2)"
   ]
  },
  {
   "cell_type": "code",
   "execution_count": null,
   "id": "fbd2f6b0-c0b3-4c63-90ae-b236364c73d4",
   "metadata": {},
   "outputs": [],
   "source": []
  }
 ],
 "metadata": {
  "kernelspec": {
   "display_name": "Python 3 (ipykernel)",
   "language": "python",
   "name": "python3"
  },
  "language_info": {
   "codemirror_mode": {
    "name": "ipython",
    "version": 3
   },
   "file_extension": ".py",
   "mimetype": "text/x-python",
   "name": "python",
   "nbconvert_exporter": "python",
   "pygments_lexer": "ipython3",
   "version": "3.9.12"
  }
 },
 "nbformat": 4,
 "nbformat_minor": 5
}
