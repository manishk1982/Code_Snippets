{
 "cells": [
  {
   "cell_type": "code",
   "execution_count": 10,
   "id": "15bb5cbf-51f7-43f9-8d44-e0b16ca0d00d",
   "metadata": {},
   "outputs": [
    {
     "name": "stdout",
     "output_type": "stream",
     "text": [
      "1\n",
      "True\n"
     ]
    }
   ],
   "source": [
    "def one():\n",
    "    print(1)\n",
    "    return True\n",
    "\n",
    "def two():\n",
    "    print(2)\n",
    "\n",
    "def try1():\n",
    "    return eval('one()')\n",
    "\n",
    "a = try1()\n",
    "print(a)"
   ]
  },
  {
   "cell_type": "code",
   "execution_count": 6,
   "id": "4d8daf74-1e17-4691-a2e6-2444d759de07",
   "metadata": {},
   "outputs": [
    {
     "name": "stdout",
     "output_type": "stream",
     "text": [
      "====================\n",
      "root='.'\n",
      "dir=['.idea', '.ipynb_checkpoints', 'homework', 'Learning', 'NumPy', 'Pandas']\n",
      "files=['Cisco_Python_Essentails_1.ipynb', 'Collection_filter_etc.ipynb', 'Day_1.ipynb', 'Fibonacci.ipynb', 'Linked_Lists.ipynb', 'regex.ipynb', 'Untitled.ipynb']\n",
      "====================\n",
      "====================\n",
      "====================\n",
      "root='.\\\\.idea'\n",
      "dir=['inspectionProfiles']\n",
      "files=['.gitignore', 'Code_Snippet.iml', 'misc.xml', 'modules.xml', 'workspace.xml']\n",
      "====================\n",
      "====================\n",
      "====================\n",
      "root='.\\\\.idea\\\\inspectionProfiles'\n",
      "dir=[]\n",
      "files=['profiles_settings.xml']\n",
      "====================\n",
      "====================\n",
      "====================\n",
      "root='.\\\\.ipynb_checkpoints'\n",
      "dir=[]\n",
      "files=['Cisco_Python_Essentails_1-checkpoint.ipynb', 'Collection_filter_etc-checkpoint.ipynb', 'Day_1-checkpoint.ipynb', 'Fibonacci-checkpoint.ipynb', 'Linked_Lists-checkpoint.ipynb', 'regex-checkpoint.ipynb', 'Untitled-checkpoint.ipynb', 'Untitled1-checkpoint.ipynb']\n",
      "====================\n",
      "====================\n",
      "====================\n",
      "root='.\\\\homework'\n",
      "dir=['.git', 'features', 'Flask_Proj', 'logs']\n",
      "files=['README.md']\n",
      "====================\n",
      "====================\n",
      "====================\n",
      "root='.\\\\homework\\\\.git'\n",
      "dir=['hooks', 'info', 'logs', 'objects', 'refs']\n",
      "files=['config', 'description', 'HEAD', 'index', 'packed-refs']\n",
      "====================\n",
      "====================\n",
      "====================\n",
      "root='.\\\\homework\\\\.git\\\\hooks'\n",
      "dir=[]\n",
      "files=['applypatch-msg.sample', 'commit-msg.sample', 'fsmonitor-watchman.sample', 'post-update.sample', 'pre-applypatch.sample', 'pre-commit.sample', 'pre-merge-commit.sample', 'pre-push.sample', 'pre-rebase.sample', 'pre-receive.sample', 'prepare-commit-msg.sample', 'push-to-checkout.sample', 'update.sample']\n",
      "====================\n",
      "====================\n",
      "====================\n",
      "root='.\\\\homework\\\\.git\\\\info'\n",
      "dir=[]\n",
      "files=['exclude']\n",
      "====================\n",
      "====================\n",
      "====================\n",
      "root='.\\\\homework\\\\.git\\\\logs'\n",
      "dir=['refs']\n",
      "files=['HEAD']\n",
      "====================\n",
      "====================\n",
      "====================\n",
      "root='.\\\\homework\\\\.git\\\\logs\\\\refs'\n",
      "dir=['heads', 'remotes']\n",
      "files=[]\n",
      "====================\n",
      "====================\n",
      "====================\n",
      "root='.\\\\homework\\\\.git\\\\logs\\\\refs\\\\heads'\n",
      "dir=[]\n",
      "files=['main']\n",
      "====================\n",
      "====================\n",
      "====================\n",
      "root='.\\\\homework\\\\.git\\\\logs\\\\refs\\\\remotes'\n",
      "dir=['origin']\n",
      "files=[]\n",
      "====================\n",
      "====================\n",
      "====================\n",
      "root='.\\\\homework\\\\.git\\\\logs\\\\refs\\\\remotes\\\\origin'\n",
      "dir=[]\n",
      "files=['HEAD']\n",
      "====================\n",
      "====================\n",
      "====================\n",
      "root='.\\\\homework\\\\.git\\\\objects'\n",
      "dir=['info', 'pack']\n",
      "files=[]\n",
      "====================\n",
      "====================\n",
      "====================\n",
      "root='.\\\\homework\\\\.git\\\\objects\\\\info'\n",
      "dir=[]\n",
      "files=[]\n",
      "====================\n",
      "====================\n",
      "====================\n",
      "root='.\\\\homework\\\\.git\\\\objects\\\\pack'\n",
      "dir=[]\n",
      "files=['pack-6ab153fb439759ad17ca52d9f75d11f8e7384464.idx', 'pack-6ab153fb439759ad17ca52d9f75d11f8e7384464.pack']\n",
      "====================\n",
      "====================\n",
      "====================\n",
      "root='.\\\\homework\\\\.git\\\\refs'\n",
      "dir=['heads', 'remotes', 'tags']\n",
      "files=[]\n",
      "====================\n",
      "====================\n",
      "====================\n",
      "root='.\\\\homework\\\\.git\\\\refs\\\\heads'\n",
      "dir=[]\n",
      "files=['main']\n",
      "====================\n",
      "====================\n",
      "====================\n",
      "root='.\\\\homework\\\\.git\\\\refs\\\\remotes'\n",
      "dir=['origin']\n",
      "files=[]\n",
      "====================\n",
      "====================\n",
      "====================\n",
      "root='.\\\\homework\\\\.git\\\\refs\\\\remotes\\\\origin'\n",
      "dir=[]\n",
      "files=['HEAD']\n",
      "====================\n",
      "====================\n",
      "====================\n",
      "root='.\\\\homework\\\\.git\\\\refs\\\\tags'\n",
      "dir=[]\n",
      "files=[]\n",
      "====================\n",
      "====================\n",
      "====================\n",
      "root='.\\\\homework\\\\features'\n",
      "dir=['steps']\n",
      "files=['Person_API.feature']\n",
      "====================\n",
      "====================\n",
      "====================\n",
      "root='.\\\\homework\\\\features\\\\steps'\n",
      "dir=[]\n",
      "files=['Person_API_test.py']\n",
      "====================\n",
      "====================\n",
      "====================\n",
      "root='.\\\\homework\\\\Flask_Proj'\n",
      "dir=[]\n",
      "files=['person.py', 'person_rest_api.py']\n",
      "====================\n",
      "====================\n",
      "====================\n",
      "root='.\\\\homework\\\\logs'\n",
      "dir=[]\n",
      "files=['Behave_output.txt']\n",
      "====================\n",
      "====================\n",
      "====================\n",
      "root='.\\\\Learning'\n",
      "dir=['Interview_Qs']\n",
      "files=['Max_diff_list.py', 'Max_diff_list_itertools.py']\n",
      "====================\n",
      "====================\n",
      "====================\n",
      "root='.\\\\Learning\\\\Interview_Qs'\n",
      "dir=['FAANG_Qs']\n",
      "files=['01_common_ letters_between_2_strings.py', '02_count_frequency_of_words.py', '03_convert_2_lists_into_dict.py', '04_find_missing_num_in_array.py', '05_pairs_with_given_sum_in_array.py', '06_max_height_of_binary_tree.py', '07_min_height_of_binary_tree.py', '08_find_min_diff.py', '09_find_max_diff.py', '10_evaluate_postfix_expression_using_stack.py', '11_trapping_rain_water.py', '12_wave_array.py', '13_hotel_booking.py', '14_length_of_last_word.py', '15_remove_duplicates_from_sorted_array.py', '16_maximum_sum_subArray.py', '18_find_anagrams_string.py', '20_remove_duplicates.py', '21_find_max_min_in_list.py', '22_check_rotation_of_string.py', '22_print_all_rotation_of_string.py', '23_reverse_words_in_line.py', '24_first_non_repeat_char_in_string.py', '25_convert_excel_column_no.py', '26_roman_numerals_to_integers.py', '27_common_elements_2_lists.py', '28_multiply_strings.py', 'binary_search.py', 'fibonacci_series.py', 'find_N_largest.py', 'prime_numbers.py', 'sort_list.py', '_template.py']\n",
      "====================\n",
      "====================\n",
      "====================\n",
      "root='.\\\\Learning\\\\Interview_Qs\\\\FAANG_Qs'\n",
      "dir=[]\n",
      "files=['04_missing_timesheet.py', '05_delete_recurring_character.py', '06_avg_word_length.py', '07_price_up_or_down.py', '08a_rotate_elements_left.py', '08b_rotate_elements_right.py', '09_brackets_check.py', '10_boy_in_toy_store.py']\n",
      "====================\n",
      "====================\n",
      "====================\n",
      "root='.\\\\NumPy'\n",
      "dir=['.ipynb_checkpoints']\n",
      "files=['data.txt', 'NumPy Tutorial.ipynb', 'numpy_learn_16Apr24.ipynb', 'README.md', 'try_numpy.ipynb']\n",
      "====================\n",
      "====================\n",
      "====================\n",
      "root='.\\\\NumPy\\\\.ipynb_checkpoints'\n",
      "dir=[]\n",
      "files=['NumPy Tutorial-checkpoint.ipynb', 'numpy_learn_16Apr24-checkpoint.ipynb', 'try_numpy-checkpoint.ipynb', 'Untitled-checkpoint.ipynb']\n",
      "====================\n",
      "====================\n",
      "====================\n",
      "root='.\\\\Pandas'\n",
      "dir=['.ipynb_checkpoints']\n",
      "files=['mofidied.csv', 'Pandas Data Science Tutorial.ipynb', 'panda_learn_15Apr24.ipynb', 'pokemon_data.csv', 'pokemon_data.txt', 'pokemon_data.xlsx', 'try_panda.ipynb', 'Untitled.ipynb']\n",
      "====================\n",
      "====================\n",
      "====================\n",
      "root='.\\\\Pandas\\\\.ipynb_checkpoints'\n",
      "dir=[]\n",
      "files=['Pandas Data Science Tutorial-checkpoint.ipynb', 'panda_learn_15Apr24-checkpoint.ipynb', 'try_panda-checkpoint.ipynb', 'Untitled-checkpoint.ipynb', 'Untitled1-checkpoint.ipynb', 'Untitled2-checkpoint.ipynb']\n",
      "====================\n",
      "====================\n"
     ]
    }
   ],
   "source": [
    "import os\n",
    "for root, dir, files in os.walk(\".\"):\n",
    "    print(\"=\" * 20)\n",
    "    print(f'{root=}')\n",
    "    print(f'{dir=}')\n",
    "    print(f'{files=}')\n",
    "    print(\"=\" * 20)\n",
    "    print(\"=\" * 20)"
   ]
  },
  {
   "cell_type": "code",
   "execution_count": 12,
   "id": "570ed9e3-d438-41b1-8cf0-da2c37c76aaf",
   "metadata": {},
   "outputs": [
    {
     "name": "stdout",
     "output_type": "stream",
     "text": [
      "['.idea', '.ipynb_checkpoints', 'Cisco_Python_Essentails_1.ipynb', 'Collection_filter_etc.ipynb', 'Day_1.ipynb', 'Fibonacci.ipynb', 'homework', 'Learning', 'Linked_Lists.ipynb', 'NumPy', 'Pandas', 'regex.ipynb', 'Untitled.ipynb']\n",
      "dir\n",
      "dir\n",
      "no idea\n",
      "no idea\n",
      "no idea\n",
      "no idea\n",
      "dir\n",
      "dir\n",
      "no idea\n",
      "dir\n",
      "dir\n",
      "no idea\n",
      "no idea\n"
     ]
    }
   ],
   "source": [
    "import os\n",
    "print(os.listdir('.'))\n",
    "for item in os.listdir('.'):\n",
    "    if os.path.isdir(item):\n",
    "        print(\"dir\")\n",
    "    else:\n",
    "        print(\"no idea\")"
   ]
  },
  {
   "cell_type": "code",
   "execution_count": 2,
   "id": "79d86fdc-1e32-48c1-9927-78e9ff57dcc9",
   "metadata": {},
   "outputs": [
    {
     "name": "stdout",
     "output_type": "stream",
     "text": [
      "['123456789', '987654321']\n",
      "['__add__', '__class__', '__class_getitem__', '__contains__', '__delattr__', '__delitem__', '__dir__', '__doc__', '__eq__', '__format__', '__ge__', '__getattribute__', '__getitem__', '__gt__', '__hash__', '__iadd__', '__imul__', '__init__', '__init_subclass__', '__iter__', '__le__', '__len__', '__lt__', '__mul__', '__ne__', '__new__', '__reduce__', '__reduce_ex__', '__repr__', '__reversed__', '__rmul__', '__setattr__', '__setitem__', '__sizeof__', '__str__', '__subclasshook__', 'append', 'clear', 'copy', 'count', 'extend', 'index', 'insert', 'pop', 'remove', 'reverse', 'sort']\n"
     ]
    }
   ],
   "source": [
    "import re \n",
    "string = \"\"\"Hello my Number is 123456789 and \n",
    "\t\t\tmy friend's number is 987654321\"\"\"\n",
    "regex = '\\d+'\n",
    "\n",
    "match = re.findall(regex, string) \n",
    "print(match) \n",
    "print(dir(match))"
   ]
  },
  {
   "cell_type": "code",
   "execution_count": 6,
   "id": "120b39ee-e9dc-430f-9009-93dc85370f5f",
   "metadata": {},
   "outputs": [
    {
     "name": "stdout",
     "output_type": "stream",
     "text": [
      "['e', 'a', 'd', 'b', 'e', 'a']\n",
      "['__class__', '__class_getitem__', '__copy__', '__deepcopy__', '__delattr__', '__dir__', '__doc__', '__eq__', '__format__', '__ge__', '__getattribute__', '__gt__', '__hash__', '__init__', '__init_subclass__', '__le__', '__lt__', '__ne__', '__new__', '__reduce__', '__reduce_ex__', '__repr__', '__setattr__', '__sizeof__', '__str__', '__subclasshook__', 'findall', 'finditer', 'flags', 'fullmatch', 'groupindex', 'groups', 'match', 'pattern', 'scanner', 'search', 'split', 'sub', 'subn']\n",
      "0\n"
     ]
    }
   ],
   "source": [
    "import re \n",
    "p = re.compile('[a-e]') \n",
    "\n",
    "print(p.findall(\"Aye, said Mr. Gibenson Stark\")) \n",
    "print(dir(p))\n",
    "print(p.groups)"
   ]
  },
  {
   "cell_type": "code",
   "execution_count": 7,
   "id": "a3ac9104-89fc-4352-a4ea-60965568dc0d",
   "metadata": {},
   "outputs": [
    {
     "name": "stdout",
     "output_type": "stream",
     "text": [
      "['On ', 'th Jan 2016, at 11:02 AM']\n",
      "['', 'y, ', 'oy oh ', 'oy, ', 'om', ' h', 'r', '']\n",
      "['A', 'y, Boy oh ', 'oy, ', 'om', ' h', 'r', '']\n"
     ]
    }
   ],
   "source": [
    "import re \n",
    "print(re.split('\\d+', 'On 12th Jan 2016, at 11:02 AM', 1)) \n",
    "print(re.split('[a-f]+', 'Aey, Boy oh boy, come here', flags=re.IGNORECASE)) \n",
    "print(re.split('[a-f]+', 'Aey, Boy oh boy, come here')) \n"
   ]
  },
  {
   "cell_type": "code",
   "execution_count": 8,
   "id": "86ffa687-2f16-45b6-b1a3-a526b45f4d93",
   "metadata": {},
   "outputs": [
    {
     "name": "stdout",
     "output_type": "stream",
     "text": [
      "('S~*ject has Uber booked already', 1)\n",
      "('S~*ject has ~*er booked already', 2)\n",
      "2\n",
      "S~*ject has ~*er booked already\n"
     ]
    }
   ],
   "source": [
    "import re \n",
    "\n",
    "print(re.subn('ub', '~*', 'Subject has Uber booked already')) \n",
    "\n",
    "t = re.subn('ub', '~*', 'Subject has Uber booked already', \n",
    "\t\t\tflags=re.IGNORECASE) \n",
    "print(t) \n",
    "print(len(t)) \n",
    "print(t[0]) \n"
   ]
  },
  {
   "cell_type": "code",
   "execution_count": 9,
   "id": "d8de9d68-a64f-46eb-80dd-08136aa2ccaf",
   "metadata": {},
   "outputs": [
    {
     "name": "stdout",
     "output_type": "stream",
     "text": [
      "This\\ is\\ Awesome\\ even\\ 1\\ AM\n",
      "I\\ Asked\\ what\\ is\\ this\\ \\[a\\-9\\],\\ he\\ said\\ \\\t\\ \\^WoW\n"
     ]
    }
   ],
   "source": [
    "import re \n",
    "print(re.escape(\"This is Awesome even 1 AM\")) \n",
    "print(re.escape(\"I Asked what is this [a-9], he said \\t ^WoW\")) \n"
   ]
  },
  {
   "cell_type": "code",
   "execution_count": 27,
   "id": "41c475ee-4b6f-449f-9417-6e6c0833e28a",
   "metadata": {},
   "outputs": [
    {
     "name": "stdout",
     "output_type": "stream",
     "text": [
      "Match at index 14, 21\n",
      "Full match: June 24\n",
      "June 24\n",
      "Day: 24\n"
     ]
    }
   ],
   "source": [
    "import re \n",
    "regex = r\"([a-zA-Z]+) (\\d+)\"\n",
    "\n",
    "match = re.search(regex, \"I was born on June 24\") \n",
    "if match != None: \n",
    "\tprint (\"Match at index %s, %s\" % (match.start(), match.end())) \n",
    "\tprint (\"Full match: %s\" % (match.group(0)))\n",
    "\tprint ((match.group())) \n",
    "\tprint (\"Day: %s\" % (match.group(2))) \n",
    "else: \n",
    "\tprint (\"The regex pattern does not match.\") \n"
   ]
  },
  {
   "cell_type": "code",
   "execution_count": 30,
   "id": "5bc9a984-ca11-4cbe-8df4-b1ecc7379625",
   "metadata": {},
   "outputs": [
    {
     "name": "stdout",
     "output_type": "stream",
     "text": [
      "me t\n"
     ]
    }
   ],
   "source": [
    "import re \n",
    "s = \"Welcome to me tGeeksForGeeks\"\n",
    "res = re.search(r\"\\D{2} t\", s) \n",
    "print(res.group())\n"
   ]
  },
  {
   "cell_type": "code",
   "execution_count": 33,
   "id": "ec514bb5-c02e-4316-bed6-6bfaa6fe2bb6",
   "metadata": {},
   "outputs": [
    {
     "name": "stdout",
     "output_type": "stream",
     "text": [
      "None\n"
     ]
    }
   ],
   "source": [
    "import re \n",
    "s = \"Welcome to me tGeeksForGeeks\"\n",
    "res = re.match(r\"\\D{2} t\", s) \n",
    "print(res)\n"
   ]
  },
  {
   "cell_type": "code",
   "execution_count": 35,
   "id": "c0e8d9c5-22fb-4c00-bd75-d35e7a8fefeb",
   "metadata": {},
   "outputs": [
    {
     "name": "stdout",
     "output_type": "stream",
     "text": [
      "dfdfdf\n"
     ]
    }
   ],
   "source": [
    "age = 10\n",
    "print(\"Adult\" if age > 18 else \"dfdfdf\")"
   ]
  },
  {
   "cell_type": "code",
   "execution_count": 36,
   "id": "40b43d81-d7e1-43d0-8ffb-25ab300e9981",
   "metadata": {},
   "outputs": [
    {
     "name": "stdout",
     "output_type": "stream",
     "text": [
      "[(5, 3), (1, 2)]\n",
      "[('b', 4), ('a', 2), ('c', 2)]\n"
     ]
    }
   ],
   "source": [
    "from collections import Counter\n",
    "\n",
    "most_common_numbers = Counter([1, 5, 6, 5, 3, 1, 2, 5]).most_common(2)\n",
    "print(most_common_numbers)\n",
    "# -> [(5, 3), (1, 2)]\n",
    "\n",
    "most_common_letters = Counter(\"abcbadfbcb\").most_common(3)\n",
    "print(most_common_letters)\n",
    "# -> [('b', 4), ('a', 2), ('c', 2)]"
   ]
  },
  {
   "cell_type": "code",
   "execution_count": 40,
   "id": "c7a53b93-7662-429f-9f5a-904c5b15ef45",
   "metadata": {},
   "outputs": [
    {
     "name": "stdout",
     "output_type": "stream",
     "text": [
      "['ai', 'ai']\n",
      "['__add__', '__class__', '__class_getitem__', '__contains__', '__delattr__', '__delitem__', '__dir__', '__doc__', '__eq__', '__format__', '__ge__', '__getattribute__', '__getitem__', '__gt__', '__hash__', '__iadd__', '__imul__', '__init__', '__init_subclass__', '__iter__', '__le__', '__len__', '__lt__', '__mul__', '__ne__', '__new__', '__reduce__', '__reduce_ex__', '__repr__', '__reversed__', '__rmul__', '__setattr__', '__setitem__', '__sizeof__', '__str__', '__subclasshook__', 'append', 'clear', 'copy', 'count', 'extend', 'index', 'insert', 'pop', 'remove', 'reverse', 'sort']\n"
     ]
    }
   ],
   "source": [
    "import re\n",
    "\n",
    "txt = \"The rain in Spain\"\n",
    "x = re.findall(\"ai\", txt)\n",
    "print(x)\n",
    "print(dir(x))"
   ]
  },
  {
   "cell_type": "code",
   "execution_count": 41,
   "id": "b4e5d7ac-2740-41dc-8a78-1d1a3fe4ef2e",
   "metadata": {},
   "outputs": [
    {
     "name": "stdout",
     "output_type": "stream",
     "text": [
      "[]\n"
     ]
    }
   ],
   "source": [
    "import re\n",
    "\n",
    "txt = \"The rain in Spain\"\n",
    "x = re.findall(\"Portugal\", txt)\n",
    "print(x)"
   ]
  },
  {
   "cell_type": "code",
   "execution_count": 42,
   "id": "12c68201-fb38-43bf-b0c1-b7ff195caab1",
   "metadata": {},
   "outputs": [
    {
     "name": "stdout",
     "output_type": "stream",
     "text": [
      "The first white-space character is located in position: 3\n"
     ]
    }
   ],
   "source": [
    "import re\n",
    "\n",
    "txt = \"The rain in Spain\"\n",
    "x = re.search(\"\\s\", txt)\n",
    "\n",
    "print(\"The first white-space character is located in position:\", x.start())"
   ]
  },
  {
   "cell_type": "code",
   "execution_count": 43,
   "id": "f1531252-bda8-4efc-b663-83ecb6ef021f",
   "metadata": {},
   "outputs": [
    {
     "name": "stdout",
     "output_type": "stream",
     "text": [
      "['The', 'rain', 'in', 'Spain']\n"
     ]
    }
   ],
   "source": [
    "import re\n",
    "\n",
    "txt = \"The rain in Spain\"\n",
    "x = re.split(\"\\s\", txt)\n",
    "print(x)"
   ]
  },
  {
   "cell_type": "code",
   "execution_count": 44,
   "id": "0777e1b2-691d-4d2d-a7b8-e159b5516301",
   "metadata": {},
   "outputs": [
    {
     "name": "stdout",
     "output_type": "stream",
     "text": [
      "The9rain9in9Spain\n"
     ]
    }
   ],
   "source": [
    "import re\n",
    "\n",
    "txt = \"The rain in Spain\"\n",
    "x = re.sub(\"\\s\", \"9\", txt)\n",
    "print(x)"
   ]
  },
  {
   "cell_type": "code",
   "execution_count": null,
   "id": "8b54c7cb-948a-4bae-97b7-c19e3ca52ab0",
   "metadata": {},
   "outputs": [],
   "source": []
  }
 ],
 "metadata": {
  "kernelspec": {
   "display_name": "Python 3 (ipykernel)",
   "language": "python",
   "name": "python3"
  },
  "language_info": {
   "codemirror_mode": {
    "name": "ipython",
    "version": 3
   },
   "file_extension": ".py",
   "mimetype": "text/x-python",
   "name": "python",
   "nbconvert_exporter": "python",
   "pygments_lexer": "ipython3",
   "version": "3.9.12"
  }
 },
 "nbformat": 4,
 "nbformat_minor": 5
}
